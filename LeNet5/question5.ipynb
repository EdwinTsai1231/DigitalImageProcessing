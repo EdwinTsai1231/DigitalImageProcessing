{
  "nbformat": 4,
  "nbformat_minor": 0,
  "metadata": {
    "colab": {
      "name": "question5.ipynb",
      "provenance": []
    },
    "kernelspec": {
      "name": "python3",
      "display_name": "Python 3"
    },
    "language_info": {
      "name": "python"
    }
  },
  "cells": [
    {
      "cell_type": "code",
      "execution_count": 14,
      "metadata": {
        "id": "xjWpX5quUmZQ"
      },
      "outputs": [],
      "source": [
        "import torch\n",
        "import torch.nn as nn\n",
        "import torchvision\n",
        "import torchvision.transforms as Transform\n",
        "import torch.utils.data as DATA\n",
        "import matplotlib.pyplot as plt\n",
        "import numpy as np\n"
      ]
    },
    {
      "cell_type": "markdown",
      "source": [
        "Q5 Load your model trained at 1.4, let us choose one image from MNIST test images, inference the image, show image and estimate the image as following. "
      ],
      "metadata": {
        "id": "wbGFcp5RVCWr"
      }
    },
    {
      "cell_type": "code",
      "source": [
        "class LeNet5(nn.Module):\n",
        "    def __init__(self):             # 28*28\n",
        "        super(LeNet5, self).__init__()\n",
        "        self.conv1 = nn.Sequential(\n",
        "            nn.Conv2d(1, 6, 5, 1, padding=2),\n",
        "            nn.Sigmoid(),\n",
        "            nn.AvgPool2d(2),        # 6@14*14\n",
        "        )\n",
        "        self.conv2 = nn.Sequential(\n",
        "            nn.Conv2d(6, 16, 5, 1, padding=0),\n",
        "            nn.Sigmoid(),\n",
        "            nn.AvgPool2d(2),        # 16@5*5\n",
        "        )\n",
        "        self.fc1 = nn.Sequential(\n",
        "            nn.Flatten(),\n",
        "            nn.Linear(16*5*5, 120),\n",
        "            nn.Sigmoid(),\n",
        "        )\n",
        "        self.fc2 = nn.Sequential(\n",
        "            nn.Linear(120, 84),\n",
        "            nn.Sigmoid(),\n",
        "        )\n",
        "        self.fc3 = nn.Linear(84, 10)\n",
        "\n",
        "    def forward(self, x):\n",
        "        x = self.conv1(x)\n",
        "        x = self.conv2(x)\n",
        "        x = self.fc1(x)\n",
        "        x = self.fc2(x)\n",
        "        x = self.fc3(x)\n",
        "        return x\n",
        "\n",
        "\n",
        "\n",
        "\n",
        "def pick_number(model):\n",
        "  index = int(input('Please input a integer between 0-9999\\n'))\n",
        "  data = torchvision.datasets.MNIST(\n",
        "      root= \"./mnist\",\n",
        "      train=False,\n",
        "      transform=Transform.ToTensor,\n",
        "      download=True\n",
        "  )\n",
        "  image = data.data[index].numpy()\n",
        "  plt.imshow(image,cmap='gray')\n",
        "  plt.show()\n",
        "  x = data.data[index].view(1,1,28,28).type(torch.float32)/255\n",
        "  y = data.targets[index]\n",
        "  print(f\"The number you pick from data is {y}\")\n",
        "\n",
        "  out = model(x) # the output of the model with respect to x\n",
        "  probability = ( np.exp(out.detach().numpy()) ).reshape(10) # softmax and change the output type to 10 dimension\n",
        "  probability /= sum(probability)\n",
        "  _, y_hat = torch.max(out, 1) \n",
        "\n",
        "  if(y_hat == y ):\n",
        "    print(f'Correct! The number is {y}')\n",
        "  else :\n",
        "    print(f'Incorrect! The correct number is {y}')\n",
        "\n",
        "    plt.subplot(121)\n",
        "    plt.xlabel(f'number {y}')\n",
        "    plt.imshow(np.reshape(x, (28, 28)), cmap='gray')\n",
        "    \n",
        "  plt.subplot(122)\n",
        "  plt.ylabel('Probability')\n",
        "  x = range(10)\n",
        "  plt.bar(x, probability)\n",
        "  plt.xticks(x)\n",
        "  plt.show()\n",
        "\n",
        "\n",
        "\n",
        "lenet5 = torch.load('./LeNet5.pkl')\n",
        "lenet5.eval()\n",
        "pick_number(lenet5)\n",
        "\n",
        "\n"
      ],
      "metadata": {
        "colab": {
          "base_uri": "https://localhost:8080/",
          "height": 582
        },
        "id": "kXbSXdmMVGMX",
        "outputId": "c57d900f-3e3a-4237-add0-aa7de0604c19"
      },
      "execution_count": 40,
      "outputs": [
        {
          "name": "stdout",
          "output_type": "stream",
          "text": [
            "Please input a integer between 0-9999\n",
            "222\n"
          ]
        },
        {
          "output_type": "display_data",
          "data": {
            "image/png": "[encoded data removed]",
            "text/plain": [
              "<Figure size 432x288 with 1 Axes>"
            ]
          },
          "metadata": {
            "needs_background": "light"
          }
        },
        {
          "output_type": "stream",
          "name": "stdout",
          "text": [
            "The number you pick from data is 2\n",
            "Correct! The number is 2\n"
          ]
        },
        {
          "output_type": "display_data",
          "data": {
            "image/png": "[encoded data removed]",
            "text/plain": [
              "<Figure size 432x288 with 1 Axes>"
            ]
          },
          "metadata": {
            "needs_background": "light"
          }
        }
      ]
    },
    {
      "cell_type": "markdown",
      "source": [
        ""
      ],
      "metadata": {
        "id": "kEWytxZwWGB5"
      }
    }
  ]
}